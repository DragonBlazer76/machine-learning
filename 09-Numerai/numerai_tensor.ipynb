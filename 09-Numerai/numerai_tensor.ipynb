{
 "cells": [
  {
   "cell_type": "markdown",
   "metadata": {},
   "source": [
    "# Numerai using Tensorflow\n",
    "### Please go to numer.ai to download the dataset"
   ]
  },
  {
   "cell_type": "code",
   "execution_count": 1,
   "metadata": {},
   "outputs": [],
   "source": [
    "import pandas as pd"
   ]
  },
  {
   "cell_type": "code",
   "execution_count": 2,
   "metadata": {},
   "outputs": [],
   "source": [
    "training_data = pd.read_csv('../../numerai_datasets/numerai_training_data.csv', header=0)"
   ]
  },
  {
   "cell_type": "code",
   "execution_count": 3,
   "metadata": {},
   "outputs": [],
   "source": [
    "prediction_data = pd.read_csv('../../numerai_datasets/numerai_tournament_data.csv',  header=0)"
   ]
  },
  {
   "cell_type": "code",
   "execution_count": null,
   "metadata": {},
   "outputs": [],
   "source": [
    "#training_data.head()"
   ]
  },
  {
   "cell_type": "code",
   "execution_count": null,
   "metadata": {},
   "outputs": [],
   "source": [
    "#prediction_data.head()"
   ]
  },
  {
   "cell_type": "code",
   "execution_count": null,
   "metadata": {},
   "outputs": [],
   "source": [
    "#training_data.columns"
   ]
  },
  {
   "cell_type": "code",
   "execution_count": 4,
   "metadata": {},
   "outputs": [],
   "source": [
    "import tensorflow as tf"
   ]
  },
  {
   "cell_type": "code",
   "execution_count": 5,
   "metadata": {},
   "outputs": [],
   "source": [
    "tf.reset_default_graph()"
   ]
  },
  {
   "cell_type": "code",
   "execution_count": 7,
   "metadata": {},
   "outputs": [],
   "source": [
    "#feature1 = tf.feature_column.numeric_column('feature1')\n",
    "#feature2 = tf.feature_column.numeric_column('feature2')\n",
    "#feature3 = tf.feature_column.numeric_column('feature3')\n",
    "#feature4 = tf.feature_column.numeric_column('feature4')\n",
    "#feature5 = tf.feature_column.numeric_column('feature5')\n",
    "feature6 = tf.feature_column.numeric_column('feature6')\n",
    "#feature7 = tf.feature_column.numeric_column('feature7')\n",
    "# feature8 = tf.feature_column.numeric_column('feature8')\n",
    "# feature9 = tf.feature_column.numeric_column('feature9')\n",
    "#feature10 = tf.feature_column.numeric_column('feature10')\n",
    "feature11 = tf.feature_column.numeric_column('feature11')\n",
    "#feature12 = tf.feature_column.numeric_column('feature12')\n",
    "# feature13 = tf.feature_column.numeric_column('feature13')\n",
    "#feature14 = tf.feature_column.numeric_column('feature14')\n",
    "feature15 = tf.feature_column.numeric_column('feature15')\n",
    "#feature16 = tf.feature_column.numeric_column('feature16')\n",
    "#feature17 = tf.feature_column.numeric_column('feature17')\n",
    "#feature18 = tf.feature_column.numeric_column('feature18')\n",
    "#feature19 = tf.feature_column.numeric_column('feature19')\n",
    "feature20 = tf.feature_column.numeric_column('feature20')\n",
    "#feature21 = tf.feature_column.numeric_column('feature21')\n",
    "#feature22 = tf.feature_column.numeric_column('feature22')\n",
    "#feature23 = tf.feature_column.numeric_column('feature23')\n",
    "#feature24 = tf.feature_column.numeric_column('feature24')\n",
    "feature25 = tf.feature_column.numeric_column('feature25')\n",
    "#feature26 = tf.feature_column.numeric_column('feature26')\n",
    "# feature27 = tf.feature_column.numeric_column('feature27')\n",
    "feature28 = tf.feature_column.numeric_column('feature28')\n",
    "feature29 = tf.feature_column.numeric_column('feature29')\n",
    "# feature30 = tf.feature_column.numeric_column('feature30')\n",
    "feature31 = tf.feature_column.numeric_column('feature31')\n",
    "#feature32 = tf.feature_column.numeric_column('feature32')\n",
    "#feature33 = tf.feature_column.numeric_column('feature33')\n",
    "feature34 = tf.feature_column.numeric_column('feature34')\n",
    "#feature35 = tf.feature_column.numeric_column('feature35')\n",
    "# feature36 = tf.feature_column.numeric_column('feature36')\n",
    "feature37 = tf.feature_column.numeric_column('feature37')\n",
    "#feature38 = tf.feature_column.numeric_column('feature38')\n",
    "#feature39 = tf.feature_column.numeric_column('feature39')\n",
    "#feature40 = tf.feature_column.numeric_column('feature40')\n",
    "feature41 = tf.feature_column.numeric_column('feature41')\n",
    "#feature42 = tf.feature_column.numeric_column('feature42')\n",
    "#feature43 = tf.feature_column.numeric_column('feature43')\n",
    "#feature44 = tf.feature_column.numeric_column('feature44')\n",
    "#feature45 = tf.feature_column.numeric_column('feature45')\n",
    "feature46 = tf.feature_column.numeric_column('feature46')\n",
    "# feature47 = tf.feature_column.numeric_column('feature47')\n",
    "#feature48 = tf.feature_column.numeric_column('feature48')\n",
    "#feature49 = tf.feature_column.numeric_column('feature49')\n",
    "#feature50 = tf.feature_column.numeric_column('feature50')"
   ]
  },
  {
   "cell_type": "markdown",
   "metadata": {},
   "source": [
    "### Putting them together"
   ]
  },
  {
   "cell_type": "code",
   "execution_count": 8,
   "metadata": {},
   "outputs": [],
   "source": [
    "# feat_cols = [\n",
    "#     feature8, feature9, feature11,  feature13, feature27, feature28, feature30,\n",
    "#     feature36, feature37, feature46, feature47\n",
    "# ]\n",
    "feat_cols = [\n",
    "     feature6, feature11, feature15,  feature20, feature25, feature28, feature29,\n",
    "     feature31, feature34, feature37, feature41, feature46\n",
    "]"
   ]
  },
  {
   "cell_type": "code",
   "execution_count": 9,
   "metadata": {},
   "outputs": [],
   "source": [
    "#x_data = training_data.drop(['id', 'era', 'data_type','target'], axis=1)\n",
    "x_data = training_data[[\n",
    "#     'feature8', 'feature9', 'feature11', 'feature13', 'feature16', 'feature24', 'feature27', \n",
    "#     'feature28', 'feature31', 'feature36', 'feature37', 'feature46', 'feature47'\n",
    "     'feature6', 'feature11', 'feature15',  'feature20', 'feature25', 'feature28', 'feature29',\n",
    "     'feature31', 'feature34', 'feature37', 'feature41', 'feature46'\n",
    "]]"
   ]
  },
  {
   "cell_type": "code",
   "execution_count": 11,
   "metadata": {},
   "outputs": [],
   "source": [
    "labels = training_data['target_bernie']"
   ]
  },
  {
   "cell_type": "code",
   "execution_count": 12,
   "metadata": {},
   "outputs": [],
   "source": [
    "from sklearn.model_selection import train_test_split"
   ]
  },
  {
   "cell_type": "code",
   "execution_count": 13,
   "metadata": {},
   "outputs": [],
   "source": [
    "X_train, X_test, y_train, y_test = train_test_split(x_data,labels,test_size=0.3, random_state=101)"
   ]
  },
  {
   "cell_type": "markdown",
   "metadata": {},
   "source": [
    "### Input Function"
   ]
  },
  {
   "cell_type": "code",
   "execution_count": 14,
   "metadata": {},
   "outputs": [],
   "source": [
    "input_func = tf.estimator.inputs.pandas_input_fn(x=X_train,y=y_train,batch_size=10,num_epochs=10,shuffle=True)"
   ]
  },
  {
   "cell_type": "code",
   "execution_count": 18,
   "metadata": {},
   "outputs": [
    {
     "name": "stdout",
     "output_type": "stream",
     "text": [
      "INFO:tensorflow:Using default config.\n",
      "WARNING:tensorflow:Using temporary folder as model directory: /var/folders/_6/y3kprftx5gz9pzhx9yk35dmc0000gn/T/tmpcey889e5\n",
      "INFO:tensorflow:Using config: {'_model_dir': '/var/folders/_6/y3kprftx5gz9pzhx9yk35dmc0000gn/T/tmpcey889e5', '_tf_random_seed': None, '_save_summary_steps': 100, '_save_checkpoints_steps': None, '_save_checkpoints_secs': 600, '_session_config': None, '_keep_checkpoint_max': 5, '_keep_checkpoint_every_n_hours': 10000, '_log_step_count_steps': 100, '_train_distribute': None, '_device_fn': None, '_service': None, '_cluster_spec': <tensorflow.python.training.server_lib.ClusterSpec object at 0x11e4ba860>, '_task_type': 'worker', '_task_id': 0, '_global_id_in_cluster': 0, '_master': '', '_evaluation_master': '', '_is_chief': True, '_num_ps_replicas': 0, '_num_worker_replicas': 1}\n"
     ]
    }
   ],
   "source": [
    "model = tf.estimator.LinearClassifier(feature_columns=feat_cols,n_classes=2,optimizer=tf.train.AdamOptimizer(learning_rate=0.0001))"
   ]
  },
  {
   "cell_type": "code",
   "execution_count": 19,
   "metadata": {},
   "outputs": [
    {
     "name": "stdout",
     "output_type": "stream",
     "text": [
      "INFO:tensorflow:Calling model_fn.\n",
      "INFO:tensorflow:Done calling model_fn.\n",
      "INFO:tensorflow:Create CheckpointSaverHook.\n",
      "INFO:tensorflow:Graph was finalized.\n",
      "INFO:tensorflow:Running local_init_op.\n",
      "INFO:tensorflow:Done running local_init_op.\n",
      "INFO:tensorflow:Saving checkpoints for 0 into /var/folders/_6/y3kprftx5gz9pzhx9yk35dmc0000gn/T/tmpcey889e5/model.ckpt.\n",
      "INFO:tensorflow:loss = 6.931472, step = 1\n",
      "INFO:tensorflow:global_step/sec: 288.925\n",
      "INFO:tensorflow:loss = 6.9412594, step = 101 (0.349 sec)\n",
      "INFO:tensorflow:global_step/sec: 469.64\n",
      "INFO:tensorflow:loss = 6.9917016, step = 201 (0.213 sec)\n",
      "INFO:tensorflow:global_step/sec: 466.32\n",
      "INFO:tensorflow:loss = 6.930053, step = 301 (0.215 sec)\n",
      "INFO:tensorflow:global_step/sec: 461.717\n",
      "INFO:tensorflow:loss = 6.903368, step = 401 (0.220 sec)\n",
      "INFO:tensorflow:global_step/sec: 473.9\n",
      "INFO:tensorflow:loss = 6.919703, step = 501 (0.206 sec)\n",
      "INFO:tensorflow:global_step/sec: 485.617\n",
      "INFO:tensorflow:loss = 6.9334846, step = 601 (0.207 sec)\n",
      "INFO:tensorflow:global_step/sec: 474.513\n",
      "INFO:tensorflow:loss = 6.9236593, step = 701 (0.208 sec)\n",
      "INFO:tensorflow:global_step/sec: 447.239\n",
      "INFO:tensorflow:loss = 6.932293, step = 801 (0.224 sec)\n",
      "INFO:tensorflow:global_step/sec: 469.55\n",
      "INFO:tensorflow:loss = 6.933255, step = 901 (0.213 sec)\n",
      "INFO:tensorflow:global_step/sec: 492.681\n",
      "INFO:tensorflow:loss = 6.9498463, step = 1001 (0.203 sec)\n",
      "INFO:tensorflow:global_step/sec: 485.557\n",
      "INFO:tensorflow:loss = 6.9410777, step = 1101 (0.207 sec)\n",
      "INFO:tensorflow:global_step/sec: 501.897\n",
      "INFO:tensorflow:loss = 6.930026, step = 1201 (0.202 sec)\n",
      "INFO:tensorflow:global_step/sec: 447.918\n",
      "INFO:tensorflow:loss = 6.9375124, step = 1301 (0.220 sec)\n",
      "INFO:tensorflow:global_step/sec: 484.703\n",
      "INFO:tensorflow:loss = 6.9323506, step = 1401 (0.206 sec)\n",
      "INFO:tensorflow:global_step/sec: 476.806\n",
      "INFO:tensorflow:loss = 6.9265833, step = 1501 (0.210 sec)\n",
      "INFO:tensorflow:global_step/sec: 447.834\n",
      "INFO:tensorflow:loss = 6.927541, step = 1601 (0.223 sec)\n",
      "INFO:tensorflow:global_step/sec: 460.84\n",
      "INFO:tensorflow:loss = 6.9206266, step = 1701 (0.217 sec)\n",
      "INFO:tensorflow:global_step/sec: 445.528\n",
      "INFO:tensorflow:loss = 6.888913, step = 1801 (0.224 sec)\n",
      "INFO:tensorflow:global_step/sec: 435.102\n",
      "INFO:tensorflow:loss = 6.9220233, step = 1901 (0.230 sec)\n",
      "INFO:tensorflow:global_step/sec: 497.357\n",
      "INFO:tensorflow:loss = 6.9119062, step = 2001 (0.204 sec)\n",
      "INFO:tensorflow:global_step/sec: 449.568\n",
      "INFO:tensorflow:loss = 6.948969, step = 2101 (0.220 sec)\n",
      "INFO:tensorflow:global_step/sec: 449.182\n",
      "INFO:tensorflow:loss = 6.8827066, step = 2201 (0.223 sec)\n",
      "INFO:tensorflow:global_step/sec: 475.095\n",
      "INFO:tensorflow:loss = 6.902345, step = 2301 (0.210 sec)\n",
      "INFO:tensorflow:global_step/sec: 444.838\n",
      "INFO:tensorflow:loss = 6.892729, step = 2401 (0.225 sec)\n",
      "INFO:tensorflow:global_step/sec: 445.607\n",
      "INFO:tensorflow:loss = 6.9304333, step = 2501 (0.224 sec)\n",
      "INFO:tensorflow:global_step/sec: 442.223\n",
      "INFO:tensorflow:loss = 6.9248405, step = 2601 (0.226 sec)\n",
      "INFO:tensorflow:global_step/sec: 437.844\n",
      "INFO:tensorflow:loss = 6.9286504, step = 2701 (0.228 sec)\n",
      "INFO:tensorflow:global_step/sec: 471.475\n",
      "INFO:tensorflow:loss = 6.942248, step = 2801 (0.212 sec)\n",
      "INFO:tensorflow:global_step/sec: 443.558\n",
      "INFO:tensorflow:loss = 6.926127, step = 2901 (0.226 sec)\n",
      "INFO:tensorflow:global_step/sec: 494.699\n",
      "INFO:tensorflow:loss = 6.934466, step = 3001 (0.202 sec)\n",
      "INFO:tensorflow:global_step/sec: 496.435\n",
      "INFO:tensorflow:loss = 6.9537067, step = 3101 (0.203 sec)\n",
      "INFO:tensorflow:global_step/sec: 448.648\n",
      "INFO:tensorflow:loss = 6.916827, step = 3201 (0.221 sec)\n",
      "INFO:tensorflow:global_step/sec: 500.017\n",
      "INFO:tensorflow:loss = 6.9496365, step = 3301 (0.200 sec)\n",
      "INFO:tensorflow:global_step/sec: 455.679\n",
      "INFO:tensorflow:loss = 6.936081, step = 3401 (0.219 sec)\n",
      "INFO:tensorflow:global_step/sec: 464.939\n",
      "INFO:tensorflow:loss = 6.8616056, step = 3501 (0.216 sec)\n",
      "INFO:tensorflow:global_step/sec: 436.359\n",
      "INFO:tensorflow:loss = 6.977957, step = 3601 (0.228 sec)\n",
      "INFO:tensorflow:global_step/sec: 478.168\n",
      "INFO:tensorflow:loss = 6.9274864, step = 3701 (0.209 sec)\n",
      "INFO:tensorflow:global_step/sec: 498.566\n",
      "INFO:tensorflow:loss = 6.9325247, step = 3801 (0.203 sec)\n",
      "INFO:tensorflow:global_step/sec: 463.499\n",
      "INFO:tensorflow:loss = 6.9153833, step = 3901 (0.213 sec)\n",
      "INFO:tensorflow:global_step/sec: 452.911\n",
      "INFO:tensorflow:loss = 6.926568, step = 4001 (0.221 sec)\n",
      "INFO:tensorflow:global_step/sec: 497.043\n",
      "INFO:tensorflow:loss = 6.9296727, step = 4101 (0.205 sec)\n",
      "INFO:tensorflow:global_step/sec: 428.526\n",
      "INFO:tensorflow:loss = 6.9410877, step = 4201 (0.230 sec)\n",
      "INFO:tensorflow:global_step/sec: 439.439\n",
      "INFO:tensorflow:loss = 6.921223, step = 4301 (0.228 sec)\n",
      "INFO:tensorflow:global_step/sec: 480.01\n",
      "INFO:tensorflow:loss = 6.9274025, step = 4401 (0.212 sec)\n",
      "INFO:tensorflow:global_step/sec: 434.427\n",
      "INFO:tensorflow:loss = 6.9127436, step = 4501 (0.227 sec)\n",
      "INFO:tensorflow:global_step/sec: 486.389\n",
      "INFO:tensorflow:loss = 6.9040146, step = 4601 (0.206 sec)\n",
      "INFO:tensorflow:global_step/sec: 486.318\n",
      "INFO:tensorflow:loss = 6.9756494, step = 4701 (0.206 sec)\n",
      "INFO:tensorflow:global_step/sec: 443.874\n",
      "INFO:tensorflow:loss = 6.9280996, step = 4801 (0.225 sec)\n",
      "INFO:tensorflow:global_step/sec: 442.692\n",
      "INFO:tensorflow:loss = 6.8965864, step = 4901 (0.226 sec)\n",
      "INFO:tensorflow:global_step/sec: 434.716\n",
      "INFO:tensorflow:loss = 6.900057, step = 5001 (0.230 sec)\n",
      "INFO:tensorflow:global_step/sec: 447.893\n",
      "INFO:tensorflow:loss = 6.9324827, step = 5101 (0.223 sec)\n",
      "INFO:tensorflow:global_step/sec: 453.586\n",
      "INFO:tensorflow:loss = 6.9240813, step = 5201 (0.221 sec)\n",
      "INFO:tensorflow:global_step/sec: 460.075\n",
      "INFO:tensorflow:loss = 6.9292345, step = 5301 (0.220 sec)\n",
      "INFO:tensorflow:global_step/sec: 443.445\n",
      "INFO:tensorflow:loss = 6.9630694, step = 5401 (0.223 sec)\n",
      "INFO:tensorflow:global_step/sec: 471.389\n",
      "INFO:tensorflow:loss = 6.929443, step = 5501 (0.215 sec)\n",
      "INFO:tensorflow:global_step/sec: 471.783\n",
      "INFO:tensorflow:loss = 6.9331703, step = 5601 (0.213 sec)\n",
      "INFO:tensorflow:global_step/sec: 492.871\n",
      "INFO:tensorflow:loss = 6.9345675, step = 5701 (0.201 sec)\n",
      "INFO:tensorflow:global_step/sec: 452\n",
      "INFO:tensorflow:loss = 6.9090705, step = 5801 (0.221 sec)\n",
      "INFO:tensorflow:global_step/sec: 484.601\n",
      "INFO:tensorflow:loss = 6.9308195, step = 5901 (0.210 sec)\n",
      "INFO:tensorflow:global_step/sec: 483.162\n",
      "INFO:tensorflow:loss = 6.9290924, step = 6001 (0.204 sec)\n",
      "INFO:tensorflow:global_step/sec: 474.471\n",
      "INFO:tensorflow:loss = 6.924766, step = 6101 (0.213 sec)\n",
      "INFO:tensorflow:global_step/sec: 469.312\n",
      "INFO:tensorflow:loss = 6.940093, step = 6201 (0.210 sec)\n",
      "INFO:tensorflow:global_step/sec: 486.135\n",
      "INFO:tensorflow:loss = 6.929585, step = 6301 (0.206 sec)\n",
      "INFO:tensorflow:global_step/sec: 473.538\n",
      "INFO:tensorflow:loss = 6.9128532, step = 6401 (0.212 sec)\n",
      "INFO:tensorflow:global_step/sec: 474.213\n",
      "INFO:tensorflow:loss = 6.9481435, step = 6501 (0.209 sec)\n",
      "INFO:tensorflow:global_step/sec: 489.951\n",
      "INFO:tensorflow:loss = 6.940851, step = 6601 (0.203 sec)\n",
      "INFO:tensorflow:global_step/sec: 476.256\n",
      "INFO:tensorflow:loss = 6.933448, step = 6701 (0.215 sec)\n",
      "INFO:tensorflow:global_step/sec: 483.878\n",
      "INFO:tensorflow:loss = 6.9447165, step = 6801 (0.203 sec)\n",
      "INFO:tensorflow:global_step/sec: 468.843\n",
      "INFO:tensorflow:loss = 6.9173756, step = 6901 (0.216 sec)\n",
      "INFO:tensorflow:global_step/sec: 465.578\n",
      "INFO:tensorflow:loss = 6.909955, step = 7001 (0.214 sec)\n",
      "INFO:tensorflow:global_step/sec: 467.515\n",
      "INFO:tensorflow:loss = 6.933365, step = 7101 (0.211 sec)\n",
      "INFO:tensorflow:global_step/sec: 441.356\n",
      "INFO:tensorflow:loss = 6.9229527, step = 7201 (0.226 sec)\n",
      "INFO:tensorflow:global_step/sec: 451.45\n",
      "INFO:tensorflow:loss = 6.9139924, step = 7301 (0.222 sec)\n",
      "INFO:tensorflow:global_step/sec: 461.402\n",
      "INFO:tensorflow:loss = 6.9307547, step = 7401 (0.218 sec)\n",
      "INFO:tensorflow:global_step/sec: 432.932\n",
      "INFO:tensorflow:loss = 6.924834, step = 7501 (0.230 sec)\n",
      "INFO:tensorflow:global_step/sec: 445.582\n",
      "INFO:tensorflow:loss = 6.9344916, step = 7601 (0.228 sec)\n",
      "INFO:tensorflow:global_step/sec: 467.6\n",
      "INFO:tensorflow:loss = 6.9430676, step = 7701 (0.213 sec)\n",
      "INFO:tensorflow:global_step/sec: 467.517\n",
      "INFO:tensorflow:loss = 6.9409747, step = 7801 (0.215 sec)\n",
      "INFO:tensorflow:global_step/sec: 454.482\n",
      "INFO:tensorflow:loss = 6.942415, step = 7901 (0.218 sec)\n",
      "INFO:tensorflow:global_step/sec: 450.881\n"
     ]
    },
    {
     "name": "stdout",
     "output_type": "stream",
     "text": [
      "INFO:tensorflow:loss = 6.932518, step = 8001 (0.220 sec)\n",
      "INFO:tensorflow:global_step/sec: 438.361\n",
      "INFO:tensorflow:loss = 6.942365, step = 8101 (0.228 sec)\n",
      "INFO:tensorflow:global_step/sec: 446.373\n",
      "INFO:tensorflow:loss = 6.929298, step = 8201 (0.224 sec)\n",
      "INFO:tensorflow:global_step/sec: 437.361\n",
      "INFO:tensorflow:loss = 6.943075, step = 8301 (0.229 sec)\n",
      "INFO:tensorflow:global_step/sec: 438.899\n",
      "INFO:tensorflow:loss = 6.914075, step = 8401 (0.228 sec)\n",
      "INFO:tensorflow:global_step/sec: 447.259\n",
      "INFO:tensorflow:loss = 6.9269238, step = 8501 (0.224 sec)\n",
      "INFO:tensorflow:global_step/sec: 491.799\n",
      "INFO:tensorflow:loss = 6.947689, step = 8601 (0.205 sec)\n",
      "INFO:tensorflow:global_step/sec: 476.999\n",
      "INFO:tensorflow:loss = 6.920294, step = 8701 (0.210 sec)\n",
      "INFO:tensorflow:global_step/sec: 494.559\n",
      "INFO:tensorflow:loss = 6.9461026, step = 8801 (0.202 sec)\n",
      "INFO:tensorflow:global_step/sec: 495.44\n",
      "INFO:tensorflow:loss = 6.8990803, step = 8901 (0.201 sec)\n",
      "INFO:tensorflow:global_step/sec: 482.914\n",
      "INFO:tensorflow:loss = 6.914571, step = 9001 (0.206 sec)\n",
      "INFO:tensorflow:global_step/sec: 490.655\n",
      "INFO:tensorflow:loss = 6.9297256, step = 9101 (0.204 sec)\n",
      "INFO:tensorflow:global_step/sec: 489.92\n",
      "INFO:tensorflow:loss = 6.953906, step = 9201 (0.204 sec)\n",
      "INFO:tensorflow:global_step/sec: 456.924\n",
      "INFO:tensorflow:loss = 6.9740543, step = 9301 (0.219 sec)\n",
      "INFO:tensorflow:global_step/sec: 433.643\n",
      "INFO:tensorflow:loss = 6.908168, step = 9401 (0.231 sec)\n",
      "INFO:tensorflow:global_step/sec: 453.149\n",
      "INFO:tensorflow:loss = 6.9315033, step = 9501 (0.221 sec)\n",
      "INFO:tensorflow:global_step/sec: 500.275\n",
      "INFO:tensorflow:loss = 6.935196, step = 9601 (0.201 sec)\n",
      "INFO:tensorflow:global_step/sec: 439.242\n",
      "INFO:tensorflow:loss = 6.962466, step = 9701 (0.226 sec)\n",
      "INFO:tensorflow:global_step/sec: 440.773\n",
      "INFO:tensorflow:loss = 6.947441, step = 9801 (0.227 sec)\n",
      "INFO:tensorflow:global_step/sec: 496.705\n",
      "INFO:tensorflow:loss = 6.933004, step = 9901 (0.203 sec)\n",
      "INFO:tensorflow:Saving checkpoints for 10000 into /var/folders/_6/y3kprftx5gz9pzhx9yk35dmc0000gn/T/tmpcey889e5/model.ckpt.\n",
      "INFO:tensorflow:Loss for final step: 6.903755.\n"
     ]
    },
    {
     "data": {
      "text/plain": [
       "<tensorflow.python.estimator.canned.linear.LinearClassifier at 0x11c34df98>"
      ]
     },
     "execution_count": 19,
     "metadata": {},
     "output_type": "execute_result"
    }
   ],
   "source": [
    "model.train(input_fn=input_func,steps=10000)"
   ]
  },
  {
   "cell_type": "markdown",
   "metadata": {},
   "source": [
    "## Evaluation"
   ]
  },
  {
   "cell_type": "code",
   "execution_count": 20,
   "metadata": {},
   "outputs": [],
   "source": [
    "eval_input_func = tf.estimator.inputs.pandas_input_fn(\n",
    "      x=X_test,\n",
    "      y=y_test,\n",
    "      batch_size=10,\n",
    "      num_epochs=1,\n",
    "      shuffle=False)"
   ]
  },
  {
   "cell_type": "code",
   "execution_count": 21,
   "metadata": {},
   "outputs": [
    {
     "name": "stdout",
     "output_type": "stream",
     "text": [
      "INFO:tensorflow:Calling model_fn.\n",
      "WARNING:tensorflow:Trapezoidal rule is known to produce incorrect PR-AUCs; please switch to \"careful_interpolation\" instead.\n",
      "WARNING:tensorflow:Trapezoidal rule is known to produce incorrect PR-AUCs; please switch to \"careful_interpolation\" instead.\n",
      "INFO:tensorflow:Done calling model_fn.\n",
      "INFO:tensorflow:Starting evaluation at 2018-09-20-05:10:30\n",
      "INFO:tensorflow:Graph was finalized.\n",
      "INFO:tensorflow:Restoring parameters from /var/folders/_6/y3kprftx5gz9pzhx9yk35dmc0000gn/T/tmpcey889e5/model.ckpt-10000\n",
      "INFO:tensorflow:Running local_init_op.\n",
      "INFO:tensorflow:Done running local_init_op.\n",
      "INFO:tensorflow:Finished evaluation at 2018-09-20-05:10:52\n",
      "INFO:tensorflow:Saving dict for global step 10000: accuracy = 0.5016937, accuracy_baseline = 0.50016093, auc = 0.5116571, auc_precision_recall = 0.5355165, average_loss = 0.6930518, global_step = 10000, label/mean = 0.4998391, loss = 6.930166, precision = 0.5371054, prediction/mean = 0.49619952, recall = 0.022194738\n",
      "INFO:tensorflow:Saving 'checkpoint_path' summary for global step 10000: /var/folders/_6/y3kprftx5gz9pzhx9yk35dmc0000gn/T/tmpcey889e5/model.ckpt-10000\n"
     ]
    }
   ],
   "source": [
    "results = model.evaluate(eval_input_func)"
   ]
  },
  {
   "cell_type": "code",
   "execution_count": 22,
   "metadata": {},
   "outputs": [
    {
     "data": {
      "text/plain": [
       "{'accuracy': 0.5016937,\n",
       " 'accuracy_baseline': 0.50016093,\n",
       " 'auc': 0.5116571,\n",
       " 'auc_precision_recall': 0.5355165,\n",
       " 'average_loss': 0.6930518,\n",
       " 'global_step': 10000,\n",
       " 'label/mean': 0.4998391,\n",
       " 'loss': 6.930166,\n",
       " 'precision': 0.5371054,\n",
       " 'prediction/mean': 0.49619952,\n",
       " 'recall': 0.022194738}"
      ]
     },
     "execution_count": 22,
     "metadata": {},
     "output_type": "execute_result"
    }
   ],
   "source": [
    "# 6.929403\n",
    "results"
   ]
  },
  {
   "cell_type": "code",
   "execution_count": null,
   "metadata": {},
   "outputs": [],
   "source": [
    "#x1_data = prediction_data.drop(['id', 'era', 'data_type','target'], axis=1)\n",
    "x1_data = prediction_data[[\n",
    "    'feature8', 'feature9', 'feature11', 'feature13', 'feature27', 'feature28', 'feature30',\n",
    "    'feature36', 'feature37', 'feature46', 'feature47'\n",
    "]]"
   ]
  },
  {
   "cell_type": "code",
   "execution_count": null,
   "metadata": {},
   "outputs": [],
   "source": [
    "labels1 = prediction_data['target']"
   ]
  },
  {
   "cell_type": "code",
   "execution_count": null,
   "metadata": {},
   "outputs": [],
   "source": [
    "X1_train, X1_test, y1_train, y1_test = train_test_split(x1_data,labels1,test_size=1, random_state=101)"
   ]
  },
  {
   "cell_type": "code",
   "execution_count": null,
   "metadata": {},
   "outputs": [],
   "source": [
    "pred_input_func = tf.estimator.inputs.pandas_input_fn(\n",
    "      x=x1_data,\n",
    "      batch_size=10,\n",
    "      num_epochs=1,\n",
    "      shuffle=False)"
   ]
  },
  {
   "cell_type": "code",
   "execution_count": null,
   "metadata": {},
   "outputs": [],
   "source": [
    "# Predictions is a generator! \n",
    "#predictions = model.predict(pred_input_func)"
   ]
  },
  {
   "cell_type": "code",
   "execution_count": null,
   "metadata": {},
   "outputs": [],
   "source": [
    "#list(predictions)"
   ]
  },
  {
   "cell_type": "code",
   "execution_count": null,
   "metadata": {},
   "outputs": [],
   "source": [
    "results = []\n",
    "for x in model.predict(pred_input_func):\n",
    "        results.append(x.get('probabilities'))"
   ]
  },
  {
   "cell_type": "code",
   "execution_count": null,
   "metadata": {},
   "outputs": [],
   "source": [
    "results"
   ]
  },
  {
   "cell_type": "code",
   "execution_count": null,
   "metadata": {},
   "outputs": [],
   "source": [
    "import numpy as np\n",
    "results = np.delete(results,0,1)"
   ]
  },
  {
   "cell_type": "code",
   "execution_count": null,
   "metadata": {},
   "outputs": [],
   "source": [
    "results"
   ]
  },
  {
   "cell_type": "code",
   "execution_count": null,
   "metadata": {},
   "outputs": [],
   "source": [
    "ids = prediction_data[\"id\"]"
   ]
  },
  {
   "cell_type": "code",
   "execution_count": null,
   "metadata": {},
   "outputs": [],
   "source": [
    "results_df = pd.DataFrame(data=results)"
   ]
  },
  {
   "cell_type": "code",
   "execution_count": null,
   "metadata": {},
   "outputs": [],
   "source": [
    "#results_df = results_df.rename(index=str, columns = {'0':'probabilities'})"
   ]
  },
  {
   "cell_type": "code",
   "execution_count": null,
   "metadata": {},
   "outputs": [],
   "source": [
    "#results_df"
   ]
  },
  {
   "cell_type": "code",
   "execution_count": null,
   "metadata": {},
   "outputs": [],
   "source": [
    "joined = pd.DataFrame(ids).join(results_df)"
   ]
  },
  {
   "cell_type": "code",
   "execution_count": null,
   "metadata": {},
   "outputs": [],
   "source": [
    "joined = joined.rename(index=str, columns={'id':'id', 0:\"probability\"})"
   ]
  },
  {
   "cell_type": "code",
   "execution_count": null,
   "metadata": {},
   "outputs": [],
   "source": [
    "joined.to_csv(\"predictions.csv\", index=False)"
   ]
  },
  {
   "cell_type": "code",
   "execution_count": null,
   "metadata": {},
   "outputs": [],
   "source": []
  }
 ],
 "metadata": {
  "kernelspec": {
   "display_name": "Python [conda env:tfdeeplearning]",
   "language": "python",
   "name": "conda-env-tfdeeplearning-py"
  },
  "language_info": {
   "codemirror_mode": {
    "name": "ipython",
    "version": 3
   },
   "file_extension": ".py",
   "mimetype": "text/x-python",
   "name": "python",
   "nbconvert_exporter": "python",
   "pygments_lexer": "ipython3",
   "version": "3.6.4"
  }
 },
 "nbformat": 4,
 "nbformat_minor": 2
}
