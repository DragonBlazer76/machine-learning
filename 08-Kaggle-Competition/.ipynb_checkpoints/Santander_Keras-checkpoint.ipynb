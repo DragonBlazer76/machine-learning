{
 "cells": [
  {
   "cell_type": "markdown",
   "metadata": {},
   "source": [
    "# Santander Value Prediction Challenge\n",
    "### I participated in this Kaggle competition as a tryout. Using Kera in this case\n",
    "### Please go to https://www.kaggle.com/c/santander-value-prediction-challenge to download the dataset"
   ]
  },
  {
   "cell_type": "code",
   "execution_count": 1,
   "metadata": {},
   "outputs": [],
   "source": [
    "import numpy as np\n",
    "import pandas as pd\n",
    "\n",
    "import matplotlib.pyplot as plt\n",
    "%matplotlib inline"
   ]
  },
  {
   "cell_type": "code",
   "execution_count": 2,
   "metadata": {},
   "outputs": [],
   "source": [
    "training_data = pd.read_csv('input/train.csv')\n",
    "test_data = pd.read_csv('input/test.csv')"
   ]
  },
  {
   "cell_type": "code",
   "execution_count": 3,
   "metadata": {},
   "outputs": [],
   "source": [
    "import tensorflow as tf"
   ]
  },
  {
   "cell_type": "code",
   "execution_count": 4,
   "metadata": {},
   "outputs": [],
   "source": [
    "tf.reset_default_graph()"
   ]
  },
  {
   "cell_type": "code",
   "execution_count": 24,
   "metadata": {},
   "outputs": [],
   "source": [
    "x_data = training_data[[\n",
    "    'f190486d6', 'eeb9cd3aa', '58e2e02e6', 'b43a7cfd5', '58232a6fb',\n",
    "    '15ace8c9f', '9fd594eec', '20aa07010', '024c577b9', '00f844fea',\n",
    "    '1702b5bf0', '58e056e12', '6eef030c1', 'f74e8f13d', '26fc93eb7', \n",
    "    'd6bb78916', '1c71183bb', '963a49cdc', '4edc3388d', 'fb0f5dbfe'\n",
    "]]\n",
    "# x_data = training_data.drop([\"ID\", \"target\"], axis=1)"
   ]
  },
  {
   "cell_type": "code",
   "execution_count": 26,
   "metadata": {},
   "outputs": [],
   "source": [
    "x_test = test_data[[\n",
    "    'f190486d6', 'eeb9cd3aa', '58e2e02e6', 'b43a7cfd5', '58232a6fb',\n",
    "    '15ace8c9f', '9fd594eec', '20aa07010', '024c577b9', '00f844fea',\n",
    "    '1702b5bf0', '58e056e12', '6eef030c1', 'f74e8f13d', '26fc93eb7', \n",
    "    'd6bb78916', '1c71183bb', '963a49cdc', '4edc3388d', 'fb0f5dbfe'\n",
    "]]\n",
    "# x_test = test_data.drop([\"ID\"], axis=1)"
   ]
  },
  {
   "cell_type": "code",
   "execution_count": 27,
   "metadata": {},
   "outputs": [],
   "source": [
    "x_data_log = np.log1p(x_data)\n",
    "x_test_log = np.log1p(x_test)"
   ]
  },
  {
   "cell_type": "code",
   "execution_count": 28,
   "metadata": {},
   "outputs": [],
   "source": [
    "X_all = pd.concat((x_test_log, x_data_log), axis=0).replace(0,  np.nan) # exclude zeros from mean/std calculation"
   ]
  },
  {
   "cell_type": "code",
   "execution_count": 29,
   "metadata": {},
   "outputs": [],
   "source": [
    "# Scale features\n",
    "X_train_scala = (x_data_log - X_all.mean()) / X_all.std()\n",
    "X_test_scala = (x_test_log - X_all.mean()) / X_all.std()"
   ]
  },
  {
   "cell_type": "code",
   "execution_count": 30,
   "metadata": {},
   "outputs": [],
   "source": [
    "labels = np.log1p(training_data['target'])"
   ]
  },
  {
   "cell_type": "code",
   "execution_count": 31,
   "metadata": {},
   "outputs": [],
   "source": [
    "from sklearn.model_selection import train_test_split"
   ]
  },
  {
   "cell_type": "code",
   "execution_count": 32,
   "metadata": {},
   "outputs": [],
   "source": [
    "X_train, X_test, y_train, y_test = train_test_split(X_train_scala,labels,test_size=0.3, random_state=101)"
   ]
  },
  {
   "cell_type": "code",
   "execution_count": 33,
   "metadata": {},
   "outputs": [],
   "source": [
    "from tensorflow.contrib.keras import models"
   ]
  },
  {
   "cell_type": "code",
   "execution_count": 34,
   "metadata": {},
   "outputs": [],
   "source": [
    "dnn_keras_model = models.Sequential()"
   ]
  },
  {
   "cell_type": "code",
   "execution_count": 35,
   "metadata": {},
   "outputs": [],
   "source": [
    "from tensorflow.contrib.keras import optimizers\n",
    "from tensorflow.contrib.keras import layers"
   ]
  },
  {
   "cell_type": "code",
   "execution_count": null,
   "metadata": {},
   "outputs": [],
   "source": []
  },
  {
   "cell_type": "code",
   "execution_count": 36,
   "metadata": {},
   "outputs": [],
   "source": [
    "input_layer = layers.Input(shape=(X_train.shape[1],))\n",
    "x = input_layer\n",
    "x = layers.Dense(1024, activation='linear')(x)\n",
    "x = layers.LeakyReLU()(x)\n",
    "#x = Dropout(0.5)(x)\n",
    "x = layers.Dense(512, activation='linear')(x)\n",
    "x = layers.LeakyReLU()(x)\n",
    "#x = Dropout(0.1)(x)\n",
    "x = layers.Dense(64, activation='relu')(x)\n",
    "x = layers.Dense(1, activation='linear')(x)\n",
    "keras_nn = models.Model(inputs=input_layer, outputs=x, name='nn_zero')"
   ]
  },
  {
   "cell_type": "code",
   "execution_count": 37,
   "metadata": {},
   "outputs": [],
   "source": [
    "from tensorflow.contrib.keras import backend as K "
   ]
  },
  {
   "cell_type": "code",
   "execution_count": 38,
   "metadata": {},
   "outputs": [],
   "source": [
    "def root_mean_squared_error(y_true, y_pred):\n",
    "        return K.sqrt(K.mean(K.square(y_pred - y_true), axis=-1)) \n",
    "\n",
    "keras_nn.compile(optimizer=optimizers.Adam(lr=0.0001), loss=root_mean_squared_error, metrics=[root_mean_squared_error])"
   ]
  },
  {
   "cell_type": "code",
   "execution_count": 39,
   "metadata": {},
   "outputs": [],
   "source": [
    "from tensorflow.contrib.keras import callbacks"
   ]
  },
  {
   "cell_type": "code",
   "execution_count": 40,
   "metadata": {},
   "outputs": [
    {
     "name": "stdout",
     "output_type": "stream",
     "text": [
      "Train on 3121 samples, validate on 1338 samples\n",
      "Epoch 1/200\n",
      "3121/3121 [==============================]3121/3121 [==============================] - 1s 448us/step - loss: 2.6035 - root_mean_squared_error: 2.6035 - val_loss: 1.5193 - val_root_mean_squared_error: 1.5193\n",
      "\n",
      "Epoch 2/200\n",
      "3121/3121 [==============================]3121/3121 [==============================] - 1s 303us/step - loss: 1.4883 - root_mean_squared_error: 1.4883 - val_loss: 1.4702 - val_root_mean_squared_error: 1.4702\n",
      "\n",
      "Epoch 3/200\n",
      "3121/3121 [==============================]3121/3121 [==============================] - 1s 305us/step - loss: 1.4301 - root_mean_squared_error: 1.4301 - val_loss: 1.4343 - val_root_mean_squared_error: 1.4343\n",
      "\n",
      "Epoch 4/200\n",
      "3121/3121 [==============================]3121/3121 [==============================] - 1s 305us/step - loss: 1.4018 - root_mean_squared_error: 1.4018 - val_loss: 1.4564 - val_root_mean_squared_error: 1.4564\n",
      "\n",
      "Epoch 5/200\n",
      "3056/3121 [============================>.]3056/3121 [============================>.] - ETA: 0s - loss: 1.3819 - root_mean_squared_error: 1.3819\n",
      "Epoch 00005: ReduceLROnPlateau reducing learning rate to 9.999999747378752e-06.\n",
      "3121/3121 [==============================]3121/3121 [==============================] - 1s 312us/step - loss: 1.3877 - root_mean_squared_error: 1.3877 - val_loss: 1.4541 - val_root_mean_squared_error: 1.4541\n",
      "\n",
      "Epoch 6/200\n",
      "3121/3121 [==============================]3121/3121 [==============================] - 1s 310us/step - loss: 1.3074 - root_mean_squared_error: 1.3074 - val_loss: 1.3810 - val_root_mean_squared_error: 1.3810\n",
      "\n",
      "Epoch 7/200\n",
      "3121/3121 [==============================]3121/3121 [==============================] - 1s 307us/step - loss: 1.2959 - root_mean_squared_error: 1.2959 - val_loss: 1.3745 - val_root_mean_squared_error: 1.3745\n",
      "\n",
      "Epoch 8/200\n",
      "3121/3121 [==============================]3121/3121 [==============================] - 1s 319us/step - loss: 1.2870 - root_mean_squared_error: 1.2870 - val_loss: 1.3853 - val_root_mean_squared_error: 1.3853\n",
      "\n",
      "Epoch 9/200\n",
      "3088/3121 [============================>.]3088/3121 [============================>.] - ETA: 0s - loss: 1.2886 - root_mean_squared_error: 1.2886\n",
      "Epoch 00009: ReduceLROnPlateau reducing learning rate to 1e-06.\n",
      "3121/3121 [==============================]3121/3121 [==============================] - 1s 310us/step - loss: 1.2892 - root_mean_squared_error: 1.2892 - val_loss: 1.3763 - val_root_mean_squared_error: 1.3763\n",
      "\n",
      "Epoch 10/200\n",
      "3121/3121 [==============================]3121/3121 [==============================] - 1s 311us/step - loss: 1.2732 - root_mean_squared_error: 1.2732 - val_loss: 1.3780 - val_root_mean_squared_error: 1.3780\n",
      "\n"
     ]
    }
   ],
   "source": [
    "batch_size = 16\n",
    "epochs = 200\n",
    "\n",
    "lr_scheduler = callbacks.ReduceLROnPlateau(monitor='val_loss', factor=0.1, patience=1, verbose=1, mode='auto', cooldown=0, min_lr=0.000001)\n",
    "es = callbacks.EarlyStopping(monitor='val_loss', min_delta=0.00005, patience=3, verbose=0, mode='auto')\n",
    "\n",
    "history = keras_nn.fit(X_train, y_train, \n",
    "          epochs=epochs,\n",
    "          batch_size=batch_size,\n",
    "          callbacks=[lr_scheduler, es],\n",
    "          validation_data=(X_test, y_test))"
   ]
  },
  {
   "cell_type": "code",
   "execution_count": 41,
   "metadata": {},
   "outputs": [],
   "source": [
    "pred_keras = np.expm1(keras_nn.predict(X_test_scala))"
   ]
  },
  {
   "cell_type": "code",
   "execution_count": 42,
   "metadata": {},
   "outputs": [
    {
     "name": "stdout",
     "output_type": "stream",
     "text": [
      "          ID     target\n",
      "0  000137c73  1867677.0\n",
      "1  00021489f  1867677.0\n",
      "2  0004d7953  2100723.0\n",
      "3  00056a333  7193542.0\n",
      "4  00056d8eb  1867677.0\n"
     ]
    }
   ],
   "source": [
    "sub = pd.read_csv('input/sample_submission.csv')\n",
    "sub[\"target\"] = pred_keras\n",
    "\n",
    "print(sub.head())\n",
    "sub.to_csv('submission.csv', index=False)"
   ]
  },
  {
   "cell_type": "code",
   "execution_count": null,
   "metadata": {},
   "outputs": [],
   "source": []
  }
 ],
 "metadata": {
  "kernelspec": {
   "display_name": "Python [conda env:tfdeeplearning]",
   "language": "python",
   "name": "conda-env-tfdeeplearning-py"
  },
  "language_info": {
   "codemirror_mode": {
    "name": "ipython",
    "version": 3
   },
   "file_extension": ".py",
   "mimetype": "text/x-python",
   "name": "python",
   "nbconvert_exporter": "python",
   "pygments_lexer": "ipython3",
   "version": "3.6.4"
  }
 },
 "nbformat": 4,
 "nbformat_minor": 2
}
