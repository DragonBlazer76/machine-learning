{
 "cells": [
  {
   "cell_type": "markdown",
   "metadata": {},
   "source": [
    "# Stacked Autoencoder"
   ]
  },
  {
   "cell_type": "code",
   "execution_count": 1,
   "metadata": {},
   "outputs": [],
   "source": [
    "import numpy as np\n",
    "import matplotlib.pyplot as plt\n",
    "%matplotlib inline"
   ]
  },
  {
   "cell_type": "code",
   "execution_count": 2,
   "metadata": {},
   "outputs": [],
   "source": [
    "import tensorflow as tf"
   ]
  },
  {
   "cell_type": "code",
   "execution_count": 3,
   "metadata": {},
   "outputs": [],
   "source": [
    "from tensorflow.examples.tutorials.mnist import input_data"
   ]
  },
  {
   "cell_type": "code",
   "execution_count": 4,
   "metadata": {},
   "outputs": [
    {
     "name": "stdout",
     "output_type": "stream",
     "text": [
      "Extracting ../03-Convolutional-Neural-Networks/MNIST_data/train-images-idx3-ubyte.gz\n",
      "Extracting ../03-Convolutional-Neural-Networks/MNIST_data/train-labels-idx1-ubyte.gz\n",
      "Extracting ../03-Convolutional-Neural-Networks/MNIST_data/t10k-images-idx3-ubyte.gz\n",
      "Extracting ../03-Convolutional-Neural-Networks/MNIST_data/t10k-labels-idx1-ubyte.gz\n"
     ]
    }
   ],
   "source": [
    "mnist = input_data.read_data_sets(\"../03-Convolutional-Neural-Networks/MNIST_data/\",one_hot=True)"
   ]
  },
  {
   "cell_type": "code",
   "execution_count": 5,
   "metadata": {},
   "outputs": [],
   "source": [
    "tf.reset_default_graph() "
   ]
  },
  {
   "cell_type": "markdown",
   "metadata": {},
   "source": [
    "## Parameters"
   ]
  },
  {
   "cell_type": "code",
   "execution_count": 57,
   "metadata": {},
   "outputs": [],
   "source": [
    "num_inputs = 784 # 28*28\n",
    "neurons_hid1 = 392\n",
    "neurons_hid2 = 196\n",
    "neurons_hid3 = neurons_hid1 # Decoder Begins\n",
    "num_outputs = num_inputs\n",
    "\n",
    "learning_rate = 0.01"
   ]
  },
  {
   "cell_type": "markdown",
   "metadata": {},
   "source": [
    "** Activation function **"
   ]
  },
  {
   "cell_type": "code",
   "execution_count": 58,
   "metadata": {},
   "outputs": [],
   "source": [
    "actf = tf.nn.relu"
   ]
  },
  {
   "cell_type": "markdown",
   "metadata": {},
   "source": [
    "### Placeholder"
   ]
  },
  {
   "cell_type": "code",
   "execution_count": 59,
   "metadata": {},
   "outputs": [],
   "source": [
    "X = tf.placeholder(tf.float32, shape=[None, num_inputs])"
   ]
  },
  {
   "cell_type": "markdown",
   "metadata": {},
   "source": [
    "### Weights\n",
    "\n",
    "Initializer capable of adapting its scale to the shape of weights tensors.\n",
    "\n",
    "With `distribution=\"normal\"`, samples are drawn from a truncated normal\n",
    "distribution centered on zero, with `stddev = sqrt(scale / n)`\n",
    "where n is:\n",
    "  - number of input units in the weight tensor, if mode = \"fan_in\"\n",
    "  - number of output units, if mode = \"fan_out\"\n",
    "  - average of the numbers of input and output units, if mode = \"fan_avg\"\n",
    "\n",
    "With `distribution=\"uniform\"`, samples are drawn from a uniform distribution\n",
    "within [-limit, limit], with `limit = sqrt(3 * scale / n)`.\n"
   ]
  },
  {
   "cell_type": "code",
   "execution_count": 60,
   "metadata": {},
   "outputs": [],
   "source": [
    "initializer = tf.variance_scaling_initializer()"
   ]
  },
  {
   "cell_type": "code",
   "execution_count": 61,
   "metadata": {},
   "outputs": [],
   "source": [
    "w1 = tf.Variable(initializer([num_inputs, neurons_hid1]), dtype=tf.float32)\n",
    "w2 = tf.Variable(initializer([neurons_hid1, neurons_hid2]), dtype=tf.float32)\n",
    "w3 = tf.Variable(initializer([neurons_hid2, neurons_hid3]), dtype=tf.float32)\n",
    "w4 = tf.Variable(initializer([neurons_hid3, num_outputs]), dtype=tf.float32)"
   ]
  },
  {
   "cell_type": "markdown",
   "metadata": {},
   "source": [
    "### Biases"
   ]
  },
  {
   "cell_type": "code",
   "execution_count": 62,
   "metadata": {},
   "outputs": [],
   "source": [
    "b1 = tf.Variable(tf.zeros(neurons_hid1))\n",
    "b2 = tf.Variable(tf.zeros(neurons_hid2))\n",
    "b3 = tf.Variable(tf.zeros(neurons_hid3))\n",
    "b4 = tf.Variable(tf.zeros(num_outputs))"
   ]
  },
  {
   "cell_type": "markdown",
   "metadata": {},
   "source": [
    "### Activation Function and Layers"
   ]
  },
  {
   "cell_type": "code",
   "execution_count": 63,
   "metadata": {},
   "outputs": [],
   "source": [
    "act_func = tf.nn.relu"
   ]
  },
  {
   "cell_type": "code",
   "execution_count": 64,
   "metadata": {},
   "outputs": [],
   "source": [
    "hid_layer1 = act_func(tf.matmul(X, w1) + b1)\n",
    "hid_layer2 = act_func(tf.matmul(hid_layer1, w2) + b2)\n",
    "hid_layer3 = act_func(tf.matmul(hid_layer2, w3) + b3)\n",
    "output_layer = tf.matmul(hid_layer3, w4) + b4"
   ]
  },
  {
   "cell_type": "markdown",
   "metadata": {},
   "source": [
    "### Loss Function"
   ]
  },
  {
   "cell_type": "code",
   "execution_count": 65,
   "metadata": {},
   "outputs": [],
   "source": [
    "loss = tf.reduce_mean(tf.square(output_layer - X))"
   ]
  },
  {
   "cell_type": "markdown",
   "metadata": {},
   "source": [
    "### Optimizer"
   ]
  },
  {
   "cell_type": "code",
   "execution_count": 66,
   "metadata": {},
   "outputs": [],
   "source": [
    "#tf.train.RMSPropOptimizer\n",
    "optimizer = tf.train.AdamOptimizer(learning_rate)"
   ]
  },
  {
   "cell_type": "code",
   "execution_count": 67,
   "metadata": {},
   "outputs": [],
   "source": [
    "train = optimizer.minimize(loss)"
   ]
  },
  {
   "cell_type": "markdown",
   "metadata": {},
   "source": [
    "### Intialize Variables"
   ]
  },
  {
   "cell_type": "code",
   "execution_count": 68,
   "metadata": {},
   "outputs": [],
   "source": [
    "init = tf.global_variables_initializer()"
   ]
  },
  {
   "cell_type": "code",
   "execution_count": 69,
   "metadata": {},
   "outputs": [],
   "source": [
    "saver = tf.train.Saver() "
   ]
  },
  {
   "cell_type": "code",
   "execution_count": 70,
   "metadata": {},
   "outputs": [
    {
     "name": "stdout",
     "output_type": "stream",
     "text": [
      "Epoch 0 Complete. Training Loss: 0.03804386779665947\n",
      "Epoch 1 Complete. Training Loss: 0.034501753747463226\n",
      "Epoch 2 Complete. Training Loss: 0.03371678292751312\n",
      "Epoch 3 Complete. Training Loss: 0.03225325047969818\n",
      "Epoch 4 Complete. Training Loss: 0.03265475109219551\n",
      "Epoch 5 Complete. Training Loss: 0.030388813465833664\n",
      "Epoch 6 Complete. Training Loss: 0.03080538660287857\n",
      "Epoch 7 Complete. Training Loss: 0.028870048001408577\n",
      "Epoch 8 Complete. Training Loss: 0.030849212780594826\n",
      "Epoch 9 Complete. Training Loss: 0.03019639290869236\n",
      "Epoch 10 Complete. Training Loss: 0.030346935614943504\n",
      "Epoch 11 Complete. Training Loss: 0.030717577785253525\n",
      "Epoch 12 Complete. Training Loss: 0.029302455484867096\n",
      "Epoch 13 Complete. Training Loss: 0.029831010848283768\n",
      "Epoch 14 Complete. Training Loss: 0.03052196279168129\n",
      "Epoch 15 Complete. Training Loss: 0.02888328954577446\n",
      "Epoch 16 Complete. Training Loss: 0.028877776116132736\n",
      "Epoch 17 Complete. Training Loss: 0.028579089790582657\n",
      "Epoch 18 Complete. Training Loss: 0.029907256364822388\n",
      "Epoch 19 Complete. Training Loss: 0.029887327924370766\n",
      "Epoch 20 Complete. Training Loss: 0.02913995459675789\n",
      "Epoch 21 Complete. Training Loss: 0.029477540403604507\n",
      "Epoch 22 Complete. Training Loss: 0.029751155525445938\n",
      "Epoch 23 Complete. Training Loss: 0.02805805206298828\n",
      "Epoch 24 Complete. Training Loss: 0.03218459337949753\n",
      "Epoch 25 Complete. Training Loss: 0.029008252546191216\n",
      "Epoch 26 Complete. Training Loss: 0.030023997649550438\n",
      "Epoch 27 Complete. Training Loss: 0.03078077733516693\n",
      "Epoch 28 Complete. Training Loss: 0.030947517603635788\n",
      "Epoch 29 Complete. Training Loss: 0.028620092198252678\n",
      "Epoch 30 Complete. Training Loss: 0.03212584927678108\n",
      "Epoch 31 Complete. Training Loss: 0.029973460361361504\n",
      "Epoch 32 Complete. Training Loss: 0.029612939804792404\n",
      "Epoch 33 Complete. Training Loss: 0.03230849653482437\n",
      "Epoch 34 Complete. Training Loss: 0.03118903376162052\n",
      "Epoch 35 Complete. Training Loss: 0.028571629896759987\n",
      "Epoch 36 Complete. Training Loss: 0.029772592708468437\n",
      "Epoch 37 Complete. Training Loss: 0.02981049194931984\n",
      "Epoch 38 Complete. Training Loss: 0.029290493577718735\n",
      "Epoch 39 Complete. Training Loss: 0.02871011756360531\n",
      "Epoch 40 Complete. Training Loss: 0.030263278633356094\n",
      "Epoch 41 Complete. Training Loss: 0.029950736090540886\n",
      "Epoch 42 Complete. Training Loss: 0.03126940503716469\n",
      "Epoch 43 Complete. Training Loss: 0.02992124855518341\n",
      "Epoch 44 Complete. Training Loss: 0.033954206854104996\n",
      "Epoch 45 Complete. Training Loss: 0.02845078893005848\n",
      "Epoch 46 Complete. Training Loss: 0.0323958657681942\n",
      "Epoch 47 Complete. Training Loss: 0.030964616686105728\n",
      "Epoch 48 Complete. Training Loss: 0.029616566374897957\n",
      "Epoch 49 Complete. Training Loss: 0.029706846922636032\n",
      "Epoch 50 Complete. Training Loss: 0.028453610837459564\n",
      "Epoch 51 Complete. Training Loss: 0.02811279147863388\n",
      "Epoch 52 Complete. Training Loss: 0.029269784688949585\n",
      "Epoch 53 Complete. Training Loss: 0.02853417582809925\n",
      "Epoch 54 Complete. Training Loss: 0.02769370935857296\n",
      "Epoch 55 Complete. Training Loss: 0.029353851452469826\n",
      "Epoch 56 Complete. Training Loss: 0.028763912618160248\n",
      "Epoch 57 Complete. Training Loss: 0.02990100346505642\n",
      "Epoch 58 Complete. Training Loss: 0.03042706288397312\n",
      "Epoch 59 Complete. Training Loss: 0.03386922553181648\n",
      "Epoch 60 Complete. Training Loss: 0.029259517788887024\n",
      "Epoch 61 Complete. Training Loss: 0.029360933229327202\n",
      "Epoch 62 Complete. Training Loss: 0.030081428587436676\n",
      "Epoch 63 Complete. Training Loss: 0.030800076201558113\n",
      "Epoch 64 Complete. Training Loss: 0.03255121782422066\n",
      "Epoch 65 Complete. Training Loss: 0.029090192168951035\n",
      "Epoch 66 Complete. Training Loss: 0.031550079584121704\n",
      "Epoch 67 Complete. Training Loss: 0.028966767713427544\n",
      "Epoch 68 Complete. Training Loss: 0.030019449070096016\n",
      "Epoch 69 Complete. Training Loss: 0.03273771330714226\n",
      "Epoch 70 Complete. Training Loss: 0.030111955478787422\n",
      "Epoch 71 Complete. Training Loss: 0.029945338144898415\n",
      "Epoch 72 Complete. Training Loss: 0.028194652870297432\n",
      "Epoch 73 Complete. Training Loss: 0.028835192322731018\n",
      "Epoch 74 Complete. Training Loss: 0.028720254078507423\n",
      "Epoch 75 Complete. Training Loss: 0.02774249017238617\n",
      "Epoch 76 Complete. Training Loss: 0.03143525868654251\n",
      "Epoch 77 Complete. Training Loss: 0.02996084652841091\n",
      "Epoch 78 Complete. Training Loss: 0.02834521234035492\n",
      "Epoch 79 Complete. Training Loss: 0.031637564301490784\n",
      "Epoch 80 Complete. Training Loss: 0.02999262511730194\n",
      "Epoch 81 Complete. Training Loss: 0.028242390602827072\n",
      "Epoch 82 Complete. Training Loss: 0.028988979756832123\n",
      "Epoch 83 Complete. Training Loss: 0.029495825991034508\n",
      "Epoch 84 Complete. Training Loss: 0.02785433828830719\n",
      "Epoch 85 Complete. Training Loss: 0.028626706451177597\n",
      "Epoch 86 Complete. Training Loss: 0.028928883373737335\n",
      "Epoch 87 Complete. Training Loss: 0.028530128300189972\n",
      "Epoch 88 Complete. Training Loss: 0.030664514750242233\n",
      "Epoch 89 Complete. Training Loss: 0.029588153585791588\n",
      "Epoch 90 Complete. Training Loss: 0.031811174005270004\n",
      "Epoch 91 Complete. Training Loss: 0.029201770201325417\n",
      "Epoch 92 Complete. Training Loss: 0.03133009374141693\n",
      "Epoch 93 Complete. Training Loss: 0.029513249173760414\n",
      "Epoch 94 Complete. Training Loss: 0.03182344138622284\n",
      "Epoch 95 Complete. Training Loss: 0.029390346258878708\n",
      "Epoch 96 Complete. Training Loss: 0.029640380293130875\n",
      "Epoch 97 Complete. Training Loss: 0.02911190874874592\n",
      "Epoch 98 Complete. Training Loss: 0.02902546338737011\n",
      "Epoch 99 Complete. Training Loss: 0.030583446845412254\n"
     ]
    }
   ],
   "source": [
    "num_epochs = 100\n",
    "batch_size = 150\n",
    "\n",
    "with tf.Session() as sess:\n",
    "    sess.run(init)\n",
    "    \n",
    "    # Epoch == Entire Training Set\n",
    "    for epoch in range(num_epochs):\n",
    "        \n",
    "        num_batches = mnist.train.num_examples // batch_size\n",
    "        \n",
    "        # 150 batch size\n",
    "        for iteration in range(num_batches):\n",
    "            \n",
    "            X_batch, y_batch = mnist.train.next_batch(batch_size)\n",
    "            sess.run(train, feed_dict={X: X_batch})\n",
    "            \n",
    "        training_loss = loss.eval(feed_dict={X: X_batch})   \n",
    "        \n",
    "        print(\"Epoch {} Complete. Training Loss: {}\".format(epoch,training_loss))\n",
    "     \n",
    "    saver.save(sess, \"./stacked_autoencoder.ckpt\")      "
   ]
  },
  {
   "cell_type": "markdown",
   "metadata": {},
   "source": [
    "## Test Autoencoder output on Test Data"
   ]
  },
  {
   "cell_type": "code",
   "execution_count": 71,
   "metadata": {},
   "outputs": [
    {
     "name": "stdout",
     "output_type": "stream",
     "text": [
      "INFO:tensorflow:Restoring parameters from ./stacked_autoencoder.ckpt\n"
     ]
    }
   ],
   "source": [
    "num_test_images = 10\n",
    "\n",
    "with tf.Session() as sess:\n",
    "    \n",
    "    saver.restore(sess,\"./stacked_autoencoder.ckpt\")\n",
    "    \n",
    "    results = output_layer.eval(feed_dict={X:mnist.test.images[:num_test_images]})"
   ]
  },
  {
   "cell_type": "code",
   "execution_count": 72,
   "metadata": {},
   "outputs": [
    {
     "data": {
      "image/png": "[encoded data removed]",
      "text/plain": [
       "<matplotlib.figure.Figure at 0x123b277b8>"
      ]
     },
     "metadata": {},
     "output_type": "display_data"
    }
   ],
   "source": [
    "# Compare original images with their reconstructions\n",
    "f, a = plt.subplots(2, 10, figsize=(20, 4))\n",
    "for i in range(num_test_images):\n",
    "    a[0][i].imshow(np.reshape(mnist.test.images[i], (28, 28)))\n",
    "    a[1][i].imshow(np.reshape(results[i], (28, 28)))"
   ]
  },
  {
   "cell_type": "code",
   "execution_count": null,
   "metadata": {},
   "outputs": [],
   "source": []
  },
  {
   "cell_type": "code",
   "execution_count": null,
   "metadata": {},
   "outputs": [],
   "source": []
  }
 ],
 "metadata": {
  "anaconda-cloud": {},
  "kernelspec": {
   "display_name": "Python [default]",
   "language": "python",
   "name": "python3"
  },
  "language_info": {
   "codemirror_mode": {
    "name": "ipython",
    "version": 3
   },
   "file_extension": ".py",
   "mimetype": "text/x-python",
   "name": "python",
   "nbconvert_exporter": "python",
   "pygments_lexer": "ipython3",
   "version": "3.6.4"
  }
 },
 "nbformat": 4,
 "nbformat_minor": 2
}
